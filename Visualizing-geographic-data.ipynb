{
 "cells": [
  {
   "cell_type": "code",
   "execution_count": 2,
   "metadata": {},
   "outputs": [
    {
     "name": "stdout",
     "output_type": "stream",
     "text": [
      "id                       1\n",
      "name        Private flight\n",
      "alias                   \\N\n",
      "iata                     -\n",
      "icao                   NaN\n",
      "callsign               NaN\n",
      "country                NaN\n",
      "active                   Y\n",
      "Name: 0, dtype: object\n",
      "id                              1\n",
      "name                       Goroka\n",
      "city                       Goroka\n",
      "country          Papua New Guinea\n",
      "code                          GKA\n",
      "icao                         AYGA\n",
      "latitude                 -6.08169\n",
      "longitude                 145.392\n",
      "altitude                     5282\n",
      "offset                         10\n",
      "dst                             U\n",
      "timezone     Pacific/Port_Moresby\n",
      "Name: 0, dtype: object\n",
      "airline         2B\n",
      "airline_id     410\n",
      "source         AER\n",
      "source_id     2965\n",
      "dest           KZN\n",
      "dest_id       2990\n",
      "codeshare      NaN\n",
      "stops            0\n",
      "equipment      CR2\n",
      "Name: 0, dtype: object\n"
     ]
    }
   ],
   "source": [
    "import pandas as pd\n",
    "# Read in the 3 CSV files into 3 separate dataframe objects - airlines, airports, and routes.\n",
    "airlines = pd.read_csv(\"airlines.csv\")\n",
    "airports = pd.read_csv(\"airports.csv\")\n",
    "routes = pd.read_csv(\"routes.csv\")\n",
    "# Display the first rows for all dataframes\n",
    "print(airlines.iloc[0])\n",
    "print(airports.iloc[0])\n",
    "print(routes.iloc[0])\n",
    "\n",
    "# print(airports[\"latitude\"].describe())\n",
    "# latitude appears to go from -90 to 90"
   ]
  },
  {
   "cell_type": "code",
   "execution_count": 3,
   "metadata": {},
   "outputs": [],
   "source": [
    "from mpl_toolkits.basemap import Basemap"
   ]
  },
  {
   "cell_type": "code",
   "execution_count": 4,
   "metadata": {},
   "outputs": [
    {
     "name": "stderr",
     "output_type": "stream",
     "text": [
      "C:\\Users\\sivan\\Anaconda3\\lib\\site-packages\\ipykernel_launcher.py:2: MatplotlibDeprecationWarning: \n",
      "The dedent function was deprecated in Matplotlib 3.1 and will be removed in 3.3. Use inspect.cleandoc instead.\n",
      "  \n"
     ]
    }
   ],
   "source": [
    "# Create a new basemap instance\n",
    "m = Basemap(projection='merc', llcrnrlat=-80, urcrnrlat=80, llcrnrlon=-180, urcrnrlon=180)b"
   ]
  },
  {
   "cell_type": "code",
   "execution_count": 6,
   "metadata": {},
   "outputs": [],
   "source": [
    "# Convert the longitude and latitude values from spherical to Cartesian\n",
    "x, y = m(airports[\"longitude\"].tolist(),airports[\"latitude\"].tolist())"
   ]
  },
  {
   "cell_type": "code",
   "execution_count": null,
   "metadata": {},
   "outputs": [],
   "source": []
  }
 ],
 "metadata": {
  "kernelspec": {
   "display_name": "Python 3",
   "language": "python",
   "name": "python3"
  },
  "language_info": {
   "codemirror_mode": {
    "name": "ipython",
    "version": 3
   },
   "file_extension": ".py",
   "mimetype": "text/x-python",
   "name": "python",
   "nbconvert_exporter": "python",
   "pygments_lexer": "ipython3",
   "version": "3.7.4"
  }
 },
 "nbformat": 4,
 "nbformat_minor": 2
}
